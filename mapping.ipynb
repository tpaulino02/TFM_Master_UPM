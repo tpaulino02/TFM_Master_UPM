{
 "cells": [
  {
   "cell_type": "markdown",
   "metadata": {},
   "source": [
    "# Mapping from schema:articleBody to terms"
   ]
  },
  {
   "cell_type": "code",
   "execution_count": null,
   "metadata": {},
   "outputs": [],
   "source": [
    "!pip install -r ../requirements.txt"
   ]
  },
  {
   "cell_type": "code",
   "execution_count": 3,
   "metadata": {},
   "outputs": [
    {
     "name": "stderr",
     "output_type": "stream",
     "text": [
      "[nltk_data] Downloading package stopwords to\n",
      "[nltk_data]     /home/chatops/nltk_data...\n",
      "[nltk_data]   Package stopwords is already up-to-date!\n"
     ]
    },
    {
     "data": {
      "text/plain": [
       "True"
      ]
     },
     "execution_count": 3,
     "metadata": {},
     "output_type": "execute_result"
    }
   ],
   "source": [
    "import jsonlines\n",
    "import json\n",
    "import os\n",
    "import requests\n",
    "from tasks.preprocess import preprocessText\n",
    "\n",
    "from gsitk.preprocess import pprocess_twitter, normalize\n",
    "\n",
    "# NLTK\n",
    "import nltk\n",
    "import string\n",
    "from nltk import word_tokenize\n",
    "from nltk.corpus import stopwords\n",
    "nltk.download('stopwords')"
   ]
  },
  {
   "cell_type": "code",
   "execution_count": 4,
   "metadata": {},
   "outputs": [
    {
     "name": "stdout",
     "output_type": "stream",
     "text": [
      "in less than a week, two families in ne <allcaps> <hastag> syria received the devastating news that their sons had died while in custody of the <hashtag> sdf <allcaps>. <allcaps>  more details by: <user>:     <url>\n",
      "['less', 'week', 'two', 'families', 'ne', 'syria', 'received', 'devastating', 'news', 'sons', 'died', 'custody', 'sdf', 'details']\n",
      "<user> <user> oh, (<hastag> russia-led) campaign v. reappointment of <hashtag> opcw <allcaps> <allcaps> director general arias has already started  that's why <user> put out his latest disinformation smear last week --- but it got little traction except among the diehard tankies, amid his feud w <user>.  <hastag> syria\n",
      "['oh', 'russialed', 'campaign', 'v', 'reappointment', 'opcw', 'director', 'general', 'arias', 'already', 'started', 'thats', 'put', 'latest', 'disinformation', 'smear', 'last', 'week', 'got', 'little', 'traction', 'except', 'among', 'diehard', 'tankies', 'amid', 'feud', 'w', 'syria']\n",
      "syria: commissioner lenarčič visits turkish border and calls for renewal of un <allcaps> cross-border resolution <hastag> syria <hastag> eu <hastag> syria <hastag> eureporter  <url>\n",
      "['syria', 'commissioner', 'lenarčič', 'visits', 'turkish', 'border', 'calls', 'renewal', 'crossborder', 'resolution', 'syria', 'eu', 'syria', 'eureporter']\n",
      "what we need to know about humanitarian crisis in <hastag> syria?  which politicians have to take  their responsibilities?   <url> <user>\n",
      "['need', 'know', 'humanitarian', 'crisis', 'syria', 'politicians', 'take', 'responsibilities']\n",
      "syria top eu <allcaps> official says aid access to syrians through border crossing must stay open  <url> <hashtag> aae <allcaps> <allcaps> <hastag> syria\n",
      "['syria', 'top', 'eu', 'official', 'says', 'aid', 'access', 'syrians', 'border', 'crossing', 'must', 'stay', 'open', 'aae', 'syria']\n",
      "<hastag> syria  isis <allcaps> cells on wednesday carried out an ambush attack on a truck belonging to the syrian regime forces in the as-sukhna desert in homs, causing <number> casualties in the ranks of the regime forces and the capture of an officer, who is allegedly an explosives engineering expert.  <url>\n",
      "['syria', 'isis', 'cells', 'wednesday', 'carried', 'ambush', 'attack', 'truck', 'belonging', 'syrian', 'regime', 'forces', 'assukhna', 'desert', 'homs', 'causing', 'casualties', 'ranks', 'regime', 'forces', 'capture', 'officer', 'allegedly', 'explosives', 'engineering', 'expert']\n",
      "<hastag> syria- two syrian girls were killed in <hashtag> ypg <allcaps> <allcaps> / pkk <allcaps> controlled the city of <hastag> hasakah this week in so-called ‘honour killings’, one of whom was imprisoned and chained by her family for a year after her cousin raped her. other girl is dragged to an abandoned house&amp; shot by her tribe 📸  <url>\n",
      "['syria', 'two', 'syrian', 'girls', 'killed', 'ypg', 'pkk', 'controlled', 'city', 'hasakah', 'week', 'socalled', '‘', 'honour', 'killings', 'one', 'imprisoned', 'chained', 'family', 'year', 'cousin', 'raped', 'girl', 'dragged', 'abandoned', 'houseamp', 'shot', 'tribe', '📸']\n",
      "on a visit to a <hastag> turkish town on the border with <hastag> syria, <hashtag> eu <allcaps> <allcaps> commissioner for crisis management janez lenarcic calls for keeping a key aid route open.  \"this operation means life for millions of people on the other side of the border,\" he says, referring to bab al-hawa crossing\n",
      "['visit', 'turkish', 'town', 'border', 'syria', 'eu', 'commissioner', 'crisis', 'management', 'janez', 'lenarcic', 'calls', 'keeping', 'key', 'aid', 'route', 'open', 'operation', 'means', 'life', 'millions', 'people', 'side', 'border', 'says', 'referring', 'bab', 'alhawa', 'crossing']\n",
      "ahmed jibril, leader and founder of the popular front for the liberation of <hastag> palestine (<hashtag> pflp <allcaps>), <allcaps> died at the age of <number> in a hospital in <hastag> damascus, <hastag> syria 📸  <url>\n",
      "['ahmed', 'jibril', 'leader', 'founder', 'popular', 'front', 'liberation', 'palestine', 'pflp', 'died', 'age', 'hospital', 'damascus', 'syria', '📸']\n",
      "un <allcaps> needs no permission from unsc <allcaps> to cross border to provide aid to syrian civilians in <hashtag> snhr <allcaps> <allcaps> 's latest report <hashtag> unga <allcaps> <allcaps> <user>  <user> should ignore russia' s veto which is arbitrary and contrary to international law assad and putin should cease this collective punishment <hastag> syria\n",
      "['needs', 'permission', 'unsc', 'cross', 'border', 'provide', 'aid', 'syrian', 'civilians', 'snhr', 'latest', 'report', 'unga', 'ignore', 'russia', 'veto', 'arbitrary', 'contrary', 'international', 'law', 'assad', 'putin', 'cease', 'collective', 'punishment', 'syria']\n"
     ]
    }
   ],
   "source": [
    "with open('participation.json', 'r') as infile:\n",
    "    with open('mapped.json','w') as outfile:\n",
    "\n",
    "        writer = jsonlines.Writer(outfile)\n",
    "        reader = jsonlines.Reader(infile)\n",
    "        terms = []\n",
    "        for i, line in enumerate(reader):\n",
    "            print(line[\"_source\"][\"schema:articleBody\"])\n",
    "\n",
    "            # Specific preprocessor for tweets\n",
    "            # if source == 'twitter':\n",
    "            \n",
    "            # Twitter preprocess in light mode\n",
    "            line[\"_source\"]['terms']=pprocess_twitter.preprocess(line[\"_source\"]['schema:articleBody'], True)\n",
    "            # Remove punctuation\n",
    "            line[\"_source\"]['terms'] = \"\".join([char for char in line[\"_source\"]['terms'] if char not in string.punctuation])\n",
    "            # Tokenize words\n",
    "            line[\"_source\"]['terms'] = word_tokenize(line[\"_source\"]['terms'])\n",
    "            # Remove stopwords\n",
    "            stop_words = stopwords.words(['english', 'german','spanish'])\n",
    "            stop_words.extend(['hastag', 'hashtag','allcaps','url', 'user','number','repeat', 'amp','’','“','”',line[\"_source\"]['schema:search'].lower()])\n",
    "            # stop_words.extend(['hastag', 'hashtag', 'url', 'user',',','.','allcaps','allcapsnumber','!','?','number',':','amp','`','\"','”','“','’'])\n",
    "\n",
    "            line[\"_source\"]['terms'] = [word for word in line[\"_source\"]['terms'] if word not in stop_words]\n",
    "\n",
    "            #print(line[\"_source\"]['terms'])\n",
    "            print(line[\"_source\"]['terms'])\n",
    "\n",
    "\n",
    "            writer.write(line)"
   ]
  }
 ],
 "metadata": {
  "interpreter": {
   "hash": "916dbcbb3f70747c44a77c7bcd40155683ae19c65e1c03b4aa3499c5328201f1"
  },
  "kernelspec": {
   "display_name": "Python 3.9.2 64-bit",
   "name": "python3"
  },
  "language_info": {
   "codemirror_mode": {
    "name": "ipython",
    "version": 3
   },
   "file_extension": ".py",
   "mimetype": "text/x-python",
   "name": "python",
   "nbconvert_exporter": "python",
   "pygments_lexer": "ipython3",
   "version": "3.9.2"
  },
  "orig_nbformat": 4
 },
 "nbformat": 4,
 "nbformat_minor": 2
}
